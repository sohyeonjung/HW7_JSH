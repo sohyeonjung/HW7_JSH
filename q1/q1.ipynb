{
 "cells": [
  {
   "cell_type": "code",
   "execution_count": 20,
   "id": "acbfe460",
   "metadata": {},
   "outputs": [
    {
     "name": "stdout",
     "output_type": "stream",
     "text": [
      "Eigenvalues: [-0.37228132  5.37228132]\n",
      "Eigenvectors: [[-0.82456484 -0.41597356]\n",
      " [ 0.56576746 -0.90937671]]\n",
      "Determinant: -2\n",
      "Cross product: [-3  6 -3]\n",
      "Solution: [-1. -4.  3.]\n"
     ]
    }
   ],
   "source": [
    "import numpy as np\n",
    "\n",
    "def main():\n",
    "    a = np.array([[1,2],[3,4]])\n",
    "    vec1 =[1,2,3]\n",
    "    vec2 = [4,5,6]\n",
    "\n",
    "    eigenvalue, eigenvector = np.linalg.eig(a)\n",
    "    print(\"Eigenvalues:\",eigenvalue)\n",
    "    print(\"Eigenvectors:\",eigenvector)\n",
    "    det=np.linalg.det(a)\n",
    "    print(\"Determinant:\",round(det))\n",
    "    cross=np.cross(vec1,vec2)\n",
    "    print(\"Cross product:\",cross)\n",
    "    A=np.array([[1,2,-2],[2,1,-5],[1,-4,1]])\n",
    "    B=[-15,-21,18]\n",
    "    sol= np.linalg.solve(A, B)\n",
    "    print(\"Solution:\",sol)\n",
    "\n",
    "if __name__ == '__main__':\n",
    "    main()"
   ]
  },
  {
   "cell_type": "code",
   "execution_count": null,
   "id": "00764e97",
   "metadata": {},
   "outputs": [],
   "source": []
  }
 ],
 "metadata": {
  "kernelspec": {
   "display_name": "Python 3 (ipykernel)",
   "language": "python",
   "name": "python3"
  },
  "language_info": {
   "codemirror_mode": {
    "name": "ipython",
    "version": 3
   },
   "file_extension": ".py",
   "mimetype": "text/x-python",
   "name": "python",
   "nbconvert_exporter": "python",
   "pygments_lexer": "ipython3",
   "version": "3.9.12"
  }
 },
 "nbformat": 4,
 "nbformat_minor": 5
}
