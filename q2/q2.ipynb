{
 "cells": [
  {
   "cell_type": "code",
   "execution_count": 46,
   "id": "174d2835",
   "metadata": {},
   "outputs": [
    {
     "name": "stdout",
     "output_type": "stream",
     "text": [
      "[0.34815531 0.52223297 0.34815531]\n",
      "doc1=0.58\n",
      "doc2=0.87\n",
      "doc3=0.67\n"
     ]
    }
   ],
   "source": [
    "import numpy as np\n",
    "from numpy import dot\n",
    "from numpy.linalg import norm\n",
    "\n",
    "def cos_sim(Docs,Query):\n",
    "    return np.dot(Docs,Query)/norm(Docs)*norm(Query)\n",
    "\n",
    "def main():\n",
    "    Docs=np.array([[1,1,0,1,0,1],[1,1,1,0,1,0],[1,1,0,1,0,0]])\n",
    "    Query=[1,1,0,0,1,0]\n",
    "    n=0\n",
    "    for i in Docs:\n",
    "        a = cos_sim(i,Query)\n",
    "        n+=1\n",
    "        \n",
    "        print(\"doc\"+str(n)+\"=\"+str(round(a,2)))\n",
    "\n",
    "if __name__ == '__main__':\n",
    "    main()"
   ]
  },
  {
   "cell_type": "code",
   "execution_count": null,
   "id": "b9335e05",
   "metadata": {},
   "outputs": [],
   "source": []
  }
 ],
 "metadata": {
  "kernelspec": {
   "display_name": "Python 3 (ipykernel)",
   "language": "python",
   "name": "python3"
  },
  "language_info": {
   "codemirror_mode": {
    "name": "ipython",
    "version": 3
   },
   "file_extension": ".py",
   "mimetype": "text/x-python",
   "name": "python",
   "nbconvert_exporter": "python",
   "pygments_lexer": "ipython3",
   "version": "3.9.12"
  }
 },
 "nbformat": 4,
 "nbformat_minor": 5
}
